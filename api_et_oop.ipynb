{
 "cells": [
  {
   "cell_type": "code",
   "execution_count": null,
   "metadata": {},
   "outputs": [],
   "source": [
    "import requests\n",
    "import json"
   ]
  },
  {
   "cell_type": "code",
   "execution_count": null,
   "metadata": {},
   "outputs": [],
   "source": [
    "\n",
    "# endpoint \n",
    "api_url = \"https://data.lillemetropole.fr/data/ogcapi/collections/parking/items?f=json&limits=30\"\n",
    "\n",
    "\n",
    "response = requests.get(api_url)\n",
    "\n",
    "if response.status_code == 200:\n",
    "    data = response.json()\n",
    "\n",
    "    #print(json.dumps(data,indent=4))\n",
    "\n",
    "    parkings = data[\"records\"] # liste de dictionnaires \n",
    "\n",
    "    #print(parkings)\n",
    "\n",
    "    total_dispo = 0\n",
    "    total_max = 0 \n",
    "\n",
    "    for p in parkings: \n",
    "       if p[\"etat\"] == \"OUVERT\": \n",
    "           print(f\"{p['nom']:30} dispo: {p['nbr_libre']}\")\n",
    "           total_dispo += p[\"nbr_libre\"]\n",
    "           total_max += p[\"nbr_total\"] \n",
    "\n",
    "    print(\" \")\n",
    "    print(f\"Total max = {total_max}, total libre {total_dispo}\")\n",
    "else: \n",
    "    print(f\"la requete à l'API a produit une erreur {response.status_code} \")\n",
    " "
   ]
  },
  {
   "cell_type": "code",
   "execution_count": 8,
   "metadata": {},
   "outputs": [
    {
     "name": "stdout",
     "output_type": "stream",
     "text": [
      "dict_keys(['chien', 'chat', 'cheval'])\n",
      "dict_values(['dog', 'cat', 'horse'])\n",
      "chien dog\n",
      "chat cat\n",
      "cheval horse\n",
      "john 23\n",
      "alice (23, 1000)\n",
      "bob [30, 4]\n"
     ]
    }
   ],
   "source": [
    "d = {\"chien\" : \"dog\", \"chat\" : \"cat\", \"cheval\" : \"horse\"}\n",
    "d2 = {\"john\" : 23, \"alice\": (23,1000), \"bob\" :[30,4] }\n",
    "\n",
    "print(d.keys())\n",
    "\n",
    "print(d.values())\n",
    "\n",
    "\n",
    "for key in d.keys():\n",
    "    print(key,d[key])\n",
    "\n",
    "for k in d2.keys():\n",
    "    print(k,d2[k])\n"
   ]
  },
  {
   "cell_type": "markdown",
   "metadata": {},
   "source": [
    "# Object Oriented Programming (Programmation Orientée Objet)"
   ]
  },
  {
   "cell_type": "code",
   "execution_count": 10,
   "metadata": {},
   "outputs": [
    {
     "name": "stdout",
     "output_type": "stream",
     "text": [
      "<class 'str'>\n"
     ]
    }
   ],
   "source": [
    "s = 'hello'\n",
    "\n",
    "print(type(x))"
   ]
  },
  {
   "cell_type": "code",
   "execution_count": 11,
   "metadata": {},
   "outputs": [],
   "source": [
    "print = 4 "
   ]
  },
  {
   "cell_type": "code",
   "execution_count": 15,
   "metadata": {},
   "outputs": [],
   "source": [
    "del(print)"
   ]
  },
  {
   "cell_type": "code",
   "execution_count": 17,
   "metadata": {},
   "outputs": [
    {
     "name": "stdout",
     "output_type": "stream",
     "text": [
      "bonjour\n"
     ]
    },
    {
     "data": {
      "text/plain": [
       "['__add__',\n",
       " '__class__',\n",
       " '__contains__',\n",
       " '__delattr__',\n",
       " '__dir__',\n",
       " '__doc__',\n",
       " '__eq__',\n",
       " '__format__',\n",
       " '__ge__',\n",
       " '__getattribute__',\n",
       " '__getitem__',\n",
       " '__getnewargs__',\n",
       " '__getstate__',\n",
       " '__gt__',\n",
       " '__hash__',\n",
       " '__init__',\n",
       " '__init_subclass__',\n",
       " '__iter__',\n",
       " '__le__',\n",
       " '__len__',\n",
       " '__lt__',\n",
       " '__mod__',\n",
       " '__mul__',\n",
       " '__ne__',\n",
       " '__new__',\n",
       " '__reduce__',\n",
       " '__reduce_ex__',\n",
       " '__repr__',\n",
       " '__rmod__',\n",
       " '__rmul__',\n",
       " '__setattr__',\n",
       " '__sizeof__',\n",
       " '__str__',\n",
       " '__subclasshook__',\n",
       " 'capitalize',\n",
       " 'casefold',\n",
       " 'center',\n",
       " 'count',\n",
       " 'encode',\n",
       " 'endswith',\n",
       " 'expandtabs',\n",
       " 'find',\n",
       " 'format',\n",
       " 'format_map',\n",
       " 'index',\n",
       " 'isalnum',\n",
       " 'isalpha',\n",
       " 'isascii',\n",
       " 'isdecimal',\n",
       " 'isdigit',\n",
       " 'isidentifier',\n",
       " 'islower',\n",
       " 'isnumeric',\n",
       " 'isprintable',\n",
       " 'isspace',\n",
       " 'istitle',\n",
       " 'isupper',\n",
       " 'join',\n",
       " 'ljust',\n",
       " 'lower',\n",
       " 'lstrip',\n",
       " 'maketrans',\n",
       " 'partition',\n",
       " 'removeprefix',\n",
       " 'removesuffix',\n",
       " 'replace',\n",
       " 'rfind',\n",
       " 'rindex',\n",
       " 'rjust',\n",
       " 'rpartition',\n",
       " 'rsplit',\n",
       " 'rstrip',\n",
       " 'split',\n",
       " 'splitlines',\n",
       " 'startswith',\n",
       " 'strip',\n",
       " 'swapcase',\n",
       " 'title',\n",
       " 'translate',\n",
       " 'upper',\n",
       " 'zfill']"
      ]
     },
     "execution_count": 17,
     "metadata": {},
     "output_type": "execute_result"
    }
   ],
   "source": [
    "print(\"bonjour\")\n",
    "\n",
    "dir(s)"
   ]
  },
  {
   "cell_type": "code",
   "execution_count": null,
   "metadata": {},
   "outputs": [],
   "source": []
  },
  {
   "cell_type": "code",
   "execution_count": 43,
   "metadata": {},
   "outputs": [
    {
     "name": "stdout",
     "output_type": "stream",
     "text": [
      "6\n",
      "je dors (Balto)\n",
      "je dors (Balto)\n",
      "je dors (Balto)\n",
      "je dors (Balto)\n",
      "je dors (Balto)\n",
      "Rintintin est en train d'aboyer\n"
     ]
    }
   ],
   "source": [
    "class Dog(Pet):\n",
    "\n",
    "    def __init__(self,nom=\"milou\",age=5):\n",
    "        self.name = nom\n",
    "        self.age = age\n",
    "\n",
    "    def get_age(self):\n",
    "        return self.age \n",
    "    \n",
    "    def get_name(self):\n",
    "        return self.name \n",
    "\n",
    "    def set_age(self,age):\n",
    "        self.age = age\n",
    "\n",
    "    def bark(self):\n",
    "        print(self.name, \"est en train d'aboyer\")\n",
    "\n",
    "    def sleep(self,n):\n",
    "        for i in range(n):\n",
    "            print(f\"je dors ({self.name})\")\n",
    "\n",
    "chien1 = Dog(\"Balto\")\n",
    "chien2 = Dog(\"Rintintin\",3)\n",
    "\n",
    "chien2.set_age(6)\n",
    "\n",
    "print(chien2.get_age())\n",
    "\n",
    "\n",
    "chien1.sleep(5)\n",
    "chien2.bark()\n"
   ]
  },
  {
   "cell_type": "code",
   "execution_count": 44,
   "metadata": {},
   "outputs": [
    {
     "name": "stdout",
     "output_type": "stream",
     "text": [
      "Miaou\n",
      "je m'appelle Felix et j'ai 3 ans\n",
      "je m'appelle Rintintin et j'ai 6 ans\n"
     ]
    }
   ],
   "source": [
    "class Pet:\n",
    "    def __init__(self,nom,age):\n",
    "        self.name = nom\n",
    "        self.age = age\n",
    "\n",
    "    def sleep(self,n):\n",
    "        for i in range(n):\n",
    "            print(f\"je dors ({self.name})\")\n",
    "\n",
    "    def speak(self):\n",
    "        print(\"je ne sais pas quoi dire\")\n",
    "\n",
    "    def print(self): \n",
    "        print(f\"je m'appelle {self.name} et j'ai {self.age} ans\")\n",
    "\n",
    "\n",
    "class Cat(Pet):\n",
    "    def __init__(self, nom, age,couleur):\n",
    "        super().__init__(nom,age)\n",
    "        self.couleur = couleur\n",
    "\n",
    "    def speak(self):\n",
    "        print(\"Miaou\")\n",
    "\n",
    "class Fish(Pet):\n",
    "    def __init__(self, nom, age):\n",
    "        super().__init__(nom, age)\n",
    "\n",
    "\n",
    "poisson = Fish(\"nemo\",1)\n",
    "chat = Cat(\"Felix\",3,\"blanc\")\n",
    "chat.speak()\n",
    "\n",
    "chat.print()\n",
    "chien2.print()\n"
   ]
  },
  {
   "cell_type": "code",
   "execution_count": null,
   "metadata": {},
   "outputs": [],
   "source": []
  }
 ],
 "metadata": {
  "kernelspec": {
   "display_name": "all",
   "language": "python",
   "name": "python3"
  },
  "language_info": {
   "codemirror_mode": {
    "name": "ipython",
    "version": 3
   },
   "file_extension": ".py",
   "mimetype": "text/x-python",
   "name": "python",
   "nbconvert_exporter": "python",
   "pygments_lexer": "ipython3",
   "version": "3.11.4"
  }
 },
 "nbformat": 4,
 "nbformat_minor": 2
}
