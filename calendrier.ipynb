{
 "cells": [
  {
   "cell_type": "markdown",
   "id": "a4b7a5e9",
   "metadata": {},
   "source": [
    "## Algorithmes avec Python\n",
    "\n",
    "#### Listes, impression formattée, caluls\n",
    "\n",
    "JmT 3/2023\n",
    "\n",
    "<img src=\"calendrier.png\" alt=\"drawing\" width=\"350\"/>\n",
    "\n",
    "On se propose d'afficher les jours d'une année (connaissant le jour de semaine du premier janvier) "
   ]
  },
  {
   "cell_type": "code",
   "execution_count": 4,
   "id": "e10fac43",
   "metadata": {},
   "outputs": [],
   "source": [
    "# on se donne la liste des noms des mois, la liste des longueurs des mois, l'année, le premier jour de l'année sous la forme : \n",
    "# 0 pour lundi\n",
    "# 1 pour mardi\n",
    "# ... \n",
    "# 6 pour dimanche\n",
    "premier_jour = 0 \n",
    "annee = 2023\n",
    "mois_j = [31,28,31,30,31,30,31,31,30,31,30,31]\n",
    "mois_n = [\"jan\", \"fev\", \"mar\", \"avr\", \"mai\", \"jun\", \"jul\", \"aou\", \"sep\", \"oct\", \"nov\", \"dec\"]"
   ]
  },
  {
   "cell_type": "code",
   "execution_count": null,
   "id": "c9e4f56f",
   "metadata": {},
   "outputs": [],
   "source": [
    "# modifier la liste des longueurs de mois pour le cas d'une année bisextile\n",
    "\n",
    "if annee % 4 == 0:\n",
    "    mois_j[1] = 29\n",
    "\n",
    "print(mois_j)\n",
    "\n"
   ]
  },
  {
   "cell_type": "code",
   "execution_count": null,
   "id": "613a2245",
   "metadata": {},
   "outputs": [],
   "source": [
    "# imprimer les 365 numéros de jours... \n",
    "# à la suite (1 2 3 4 ... 31 1 2 3 ... 28 ... 1 2 3 ... 31 1 2 ... 31)\n",
    "# sans chercher à grouper, juste les jours les uns après les autres, sur 365 lignes..\n",
    "for mois in range(12):\n",
    "    for jours in range(mois_j[mois]): \n",
    "        print(jours + 1)\n"
   ]
  },
  {
   "cell_type": "code",
   "execution_count": null,
   "id": "423e734f",
   "metadata": {},
   "outputs": [],
   "source": [
    "# même chose que ci-dessus, en ne revenant à la ligne que tous les 7 jours : \n",
    "# print(4)          : passe à la ligne\n",
    "# print(5, end=\"\")  : ne passe pas à la ligne\n",
    "# le résultat ne ressemble toujours pas à grand chose... mais on y arrive\n",
    "\n",
    "for mois in range(12):\n",
    "    print(mois_n[mois])\n",
    "    print(\"lun mar mer jeu ven sam dim\")\n",
    "    print( \"-----------------------\")\n",
    "    for jours in range(mois_j[mois]): \n",
    "        if (jours + 1) % 7 == 0:\n",
    "            print(jours+1)\n",
    "        else: \n",
    "            print(jours+1,end=\" \")\n",
    "    print(\"\\n\" + \"-----------------------\")\n"
   ]
  },
  {
   "cell_type": "code",
   "execution_count": null,
   "id": "1dd91072",
   "metadata": {},
   "outputs": [],
   "source": [
    "# on peut maintenant ajouter un séparateur rudimentaire comme \"----------------------\"\n",
    "# ansi que le nom du mois, et une ligne d'entête : print(\"lun mar mer jeu ven sam dim\")\n"
   ]
  },
  {
   "cell_type": "markdown",
   "id": "e8ec8e5d",
   "metadata": {},
   "source": [
    "En regardant le résultat ci-dessus, on voit qu'il s'agit maintenant de démarrer l'enumération des jours de chaque mois à la \"bonne\" position, il faut indenter selon le jour de semaine du premier du mois."
   ]
  },
  {
   "cell_type": "code",
   "execution_count": null,
   "id": "58fec4c1",
   "metadata": {},
   "outputs": [],
   "source": [
    "# comment démarrer un mois ?\n",
    "# on va \"offsetter\"\n",
    "# essayons juste avec un mois éprouvette de 31 jours\n",
    "jours = [x+1 for x in range(31)]\n",
    "print(jours)\n",
    "\n",
    "print('---------')\n",
    "offset = 3 # le mois démarre un jeudi\n",
    "# lundi = 0 , mardi = 1 ... dimanche = 6\n",
    "# on peut utiliser format"
   ]
  },
  {
   "cell_type": "code",
   "execution_count": null,
   "id": "80a7504e",
   "metadata": {},
   "outputs": [],
   "source": [
    "# calcul de l'offset suivant du mois suivant\n",
    "offset = 3\n",
    "jours = 31\n",
    "\n",
    "\n",
    "\n",
    "print(new_offset) "
   ]
  },
  {
   "cell_type": "code",
   "execution_count": null,
   "id": "082650c2",
   "metadata": {},
   "outputs": [],
   "source": [
    "# on reprend tout ça.\n",
    "premier_jour = 0 \n",
    "mois_j = [31,28,31,30,31,30,31,31,30,31,30,31]\n",
    "mois_n = [\"jan\", \"fev\", \"mar\", \"avr\", \"mai\", \"jun\", \"jul\", \"aou\", \"sep\", \"oct\", \"nov\", \"dec\"]\n"
   ]
  },
  {
   "cell_type": "code",
   "execution_count": null,
   "id": "9ca8c612",
   "metadata": {},
   "outputs": [],
   "source": [
    "# on fait une fonction affiche_mois() qui prends en paramètres : \n",
    "#   le numéro du mois (1 à 12)\n",
    "#   l'offset \n",
    "#   et qui renvoie le nouvel offset\n",
    "\n",
    "def affiche_mois(indice, offset):\n"
   ]
  },
  {
   "cell_type": "code",
   "execution_count": null,
   "id": "2bee93e1",
   "metadata": {},
   "outputs": [],
   "source": [
    "# on utilise affiche mois pour afficher les mois de 1 à 12."
   ]
  }
 ],
 "metadata": {
  "kernelspec": {
   "display_name": "all",
   "language": "python",
   "name": "python3"
  },
  "language_info": {
   "codemirror_mode": {
    "name": "ipython",
    "version": 3
   },
   "file_extension": ".py",
   "mimetype": "text/x-python",
   "name": "python",
   "nbconvert_exporter": "python",
   "pygments_lexer": "ipython3",
   "version": "3.11.4"
  }
 },
 "nbformat": 4,
 "nbformat_minor": 5
}
