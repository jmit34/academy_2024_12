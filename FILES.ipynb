{
 "cells": [
  {
   "cell_type": "markdown",
   "metadata": {},
   "source": [
    "# Files with Python\n",
    "\n",
    "Agenda : \n",
    "\n",
    "1. Text files\n",
    "\n",
    "2. Comma Separated Values\n",
    "\n"
   ]
  },
  {
   "cell_type": "markdown",
   "metadata": {},
   "source": [
    "\n",
    "\n",
    "# 1. Text files\n",
    "\n",
    "\n",
    "\n",
    "when we do : `fh = open('some_file')` we create the instance `fh` which is a file-handler : not the file itself but an object to manage the file. Sometimes `fh`is called fileObject. \n",
    "\n",
    "Methods that apply to `fh` include read, write, open, and close... and many others\n"
   ]
  },
  {
   "cell_type": "code",
   "execution_count": 25,
   "metadata": {},
   "outputs": [
    {
     "ename": "TypeError",
     "evalue": "'str' object cannot be interpreted as an integer",
     "output_type": "error",
     "traceback": [
      "\u001b[0;31m---------------------------------------------------------------------------\u001b[0m",
      "\u001b[0;31mTypeError\u001b[0m                                 Traceback (most recent call last)",
      "Cell \u001b[0;32mIn[25], line 1\u001b[0m\n\u001b[0;32m----> 1\u001b[0m fh \u001b[38;5;241m=\u001b[39m \u001b[38;5;28;43mopen\u001b[39;49m\u001b[43m(\u001b[49m\u001b[38;5;124;43m'\u001b[39;49m\u001b[38;5;124;43mmy_file\u001b[39;49m\u001b[38;5;124;43m'\u001b[39;49m\u001b[43m,\u001b[49m\u001b[38;5;124;43m'\u001b[39;49m\u001b[38;5;124;43mr\u001b[39;49m\u001b[38;5;124;43m'\u001b[39;49m\u001b[43m,\u001b[49m\u001b[38;5;124;43m'\u001b[39;49m\u001b[38;5;124;43mutf-8\u001b[39;49m\u001b[38;5;124;43m'\u001b[39;49m\u001b[43m)\u001b[49m   \u001b[38;5;66;03m#  ('r' is for read)\u001b[39;00m\n\u001b[1;32m      3\u001b[0m \u001b[38;5;66;03m# This fails because this does not create the file if it does not exist.\u001b[39;00m\n",
      "File \u001b[0;32m~/all/lib/python3.11/site-packages/IPython/core/interactiveshell.py:284\u001b[0m, in \u001b[0;36m_modified_open\u001b[0;34m(file, *args, **kwargs)\u001b[0m\n\u001b[1;32m    277\u001b[0m \u001b[38;5;28;01mif\u001b[39;00m file \u001b[38;5;129;01min\u001b[39;00m {\u001b[38;5;241m0\u001b[39m, \u001b[38;5;241m1\u001b[39m, \u001b[38;5;241m2\u001b[39m}:\n\u001b[1;32m    278\u001b[0m     \u001b[38;5;28;01mraise\u001b[39;00m \u001b[38;5;167;01mValueError\u001b[39;00m(\n\u001b[1;32m    279\u001b[0m         \u001b[38;5;124mf\u001b[39m\u001b[38;5;124m\"\u001b[39m\u001b[38;5;124mIPython won\u001b[39m\u001b[38;5;124m'\u001b[39m\u001b[38;5;124mt let you open fd=\u001b[39m\u001b[38;5;132;01m{\u001b[39;00mfile\u001b[38;5;132;01m}\u001b[39;00m\u001b[38;5;124m by default \u001b[39m\u001b[38;5;124m\"\u001b[39m\n\u001b[1;32m    280\u001b[0m         \u001b[38;5;124m\"\u001b[39m\u001b[38;5;124mas it is likely to crash IPython. If you know what you are doing, \u001b[39m\u001b[38;5;124m\"\u001b[39m\n\u001b[1;32m    281\u001b[0m         \u001b[38;5;124m\"\u001b[39m\u001b[38;5;124myou can use builtins\u001b[39m\u001b[38;5;124m'\u001b[39m\u001b[38;5;124m open.\u001b[39m\u001b[38;5;124m\"\u001b[39m\n\u001b[1;32m    282\u001b[0m     )\n\u001b[0;32m--> 284\u001b[0m \u001b[38;5;28;01mreturn\u001b[39;00m \u001b[43mio_open\u001b[49m\u001b[43m(\u001b[49m\u001b[43mfile\u001b[49m\u001b[43m,\u001b[49m\u001b[43m \u001b[49m\u001b[38;5;241;43m*\u001b[39;49m\u001b[43margs\u001b[49m\u001b[43m,\u001b[49m\u001b[43m \u001b[49m\u001b[38;5;241;43m*\u001b[39;49m\u001b[38;5;241;43m*\u001b[39;49m\u001b[43mkwargs\u001b[49m\u001b[43m)\u001b[49m\n",
      "\u001b[0;31mTypeError\u001b[0m: 'str' object cannot be interpreted as an integer"
     ]
    }
   ],
   "source": [
    "fh = open('my_file','r')   #  ('r' is for read)\n",
    "\n",
    "# This fails because this does not create the file if it does not exist."
   ]
  },
  {
   "cell_type": "markdown",
   "metadata": {},
   "source": [
    "- `r` for reading – The file pointer is placed at the beginning of the file. This is the default mode.\n",
    "- `r+` Opens a file for both reading and writing. The file pointer will be at the beginning of the file.\n",
    "- `w` Opens a file for writing only. Overwrites the file if the file exists. If the file does not exist, creates a new file for writing.\n",
    "- `w+` Opens a file for both writing and reading. Overwrites the existing file if the file exists. If the file does not exist, it creates a new file for reading and writing.\n",
    "- `rb` Opens a file for reading only in binary format. The file pointer is placed at the beginning of the file.\n",
    "- `rb+` Opens a file for both reading and writing in binary format.\n",
    "- `wb+` Opens a file for both writing and reading in binary format. Overwrites the existing file if the file exists. If the file does not exist, it creates a new file for reading and writing.\n",
    "- `a` Opens a file for appending. The file pointer is at the end of the file if the file exists. That is, the file is in the append mode. If the file does not exist, it creates a new file for writing.\n",
    "- `ab` Opens a file for appending in binary format. The file pointer is at the end of the file if the file exists. That is, the file is in the append mode. If the file does not exist, it creates a new file for writing.\n",
    "- `a+` Opens a file for both appending and reading. The file pointer is at the end of the file if the file exists. The file opens in the append mode. If the file does not exist, it creates a new file for reading and writing.\n",
    "- `ab+` Opens a file for both appending and reading in binary format. The file pointer is at the end of the file if the file exists. The file opens in the append mode. If the file does not exist, it creates a new file for reading and writing.\n",
    "- `x` open for exclusive creation, failing if the file already exists (Python 3)\n",
    "\n",
    "\n",
    "(source : Eyehunts)"
   ]
  },
  {
   "cell_type": "code",
   "execution_count": 2,
   "metadata": {},
   "outputs": [],
   "source": [
    "fh = open('my_file','a') # opens in append mode : creates the file if it did not exists\n",
    "\n",
    "#fh = open('my_file','w') # opens file in write mode : creates the file if it did not exists ... also \n",
    "                         # : this will overwrite whatever was in the file ! \n"
   ]
  },
  {
   "cell_type": "code",
   "execution_count": 4,
   "metadata": {},
   "outputs": [
    {
     "name": "stdout",
     "output_type": "stream",
     "text": [
      "R : Error file does not exist ! \n"
     ]
    }
   ],
   "source": [
    "# 'x' mode creates the file and returns an error if the file already exists \n",
    "# it is safe in some cases to test if a file exists before creating it\n",
    "\n",
    "try : \n",
    "    fh = open('my_file','r')\n",
    "except:\n",
    "    print(\"R : Error file does not exist ! \")\n",
    "\n",
    "#or   \n",
    "\n",
    "try :  \n",
    "    fh = open('my_file','x')\n",
    "except: \n",
    "    print(\"X : Error file already exists ! \")\n",
    "    \n",
    "    \n",
    "# Both test if the file exists already. When the file did not exist,\n",
    "# only the second one ('x') does create the file.\n",
    "\n",
    "\n",
    "# Run this cell twice, explain the results !\n"
   ]
  },
  {
   "cell_type": "code",
   "execution_count": 9,
   "metadata": {},
   "outputs": [
    {
     "data": {
      "text/plain": [
       "8"
      ]
     },
     "execution_count": 9,
     "metadata": {},
     "output_type": "execute_result"
    }
   ],
   "source": [
    "fh = open('my_file', 'w')\n",
    "\n",
    "fh.write(\"Hello !\\n\")"
   ]
  },
  {
   "cell_type": "code",
   "execution_count": 10,
   "metadata": {},
   "outputs": [
    {
     "data": {
      "text/plain": [
       "12"
      ]
     },
     "execution_count": 10,
     "metadata": {},
     "output_type": "execute_result"
    }
   ],
   "source": [
    "fh.write(\"Hello World!\")"
   ]
  },
  {
   "cell_type": "code",
   "execution_count": 11,
   "metadata": {},
   "outputs": [
    {
     "ename": "UnsupportedOperation",
     "evalue": "not readable",
     "output_type": "error",
     "traceback": [
      "\u001b[0;31m---------------------------------------------------------------------------\u001b[0m",
      "\u001b[0;31mUnsupportedOperation\u001b[0m                      Traceback (most recent call last)",
      "Cell \u001b[0;32mIn[11], line 1\u001b[0m\n\u001b[0;32m----> 1\u001b[0m \u001b[43mfh\u001b[49m\u001b[38;5;241;43m.\u001b[39;49m\u001b[43mread\u001b[49m\u001b[43m(\u001b[49m\u001b[43m)\u001b[49m\n",
      "\u001b[0;31mUnsupportedOperation\u001b[0m: not readable"
     ]
    }
   ],
   "source": [
    "fh.read()"
   ]
  },
  {
   "cell_type": "markdown",
   "metadata": {},
   "source": [
    "\n",
    "Also, you can try to see what is in my_file using the jupyter file selector, click on my_file. \n",
    "\n",
    "You should find it empty ... \n",
    "\n",
    "Why ? "
   ]
  },
  {
   "cell_type": "code",
   "execution_count": 12,
   "metadata": {},
   "outputs": [],
   "source": [
    "# this will actually make the file persistant on the filesystem\n",
    "fh.close()"
   ]
  },
  {
   "cell_type": "code",
   "execution_count": 13,
   "metadata": {},
   "outputs": [
    {
     "ename": "ValueError",
     "evalue": "I/O operation on closed file.",
     "output_type": "error",
     "traceback": [
      "\u001b[0;31m---------------------------------------------------------------------------\u001b[0m",
      "\u001b[0;31mValueError\u001b[0m                                Traceback (most recent call last)",
      "Cell \u001b[0;32mIn[13], line 1\u001b[0m\n\u001b[0;32m----> 1\u001b[0m \u001b[43mfh\u001b[49m\u001b[38;5;241;43m.\u001b[39;49m\u001b[43mread\u001b[49m\u001b[43m(\u001b[49m\u001b[43m)\u001b[49m  \u001b[38;5;66;03m# produces an other error !\u001b[39;00m\n",
      "\u001b[0;31mValueError\u001b[0m: I/O operation on closed file."
     ]
    }
   ],
   "source": [
    "fh.read()  # produces an other error !"
   ]
  },
  {
   "cell_type": "code",
   "execution_count": 14,
   "metadata": {},
   "outputs": [],
   "source": [
    "fh = open('my_file')"
   ]
  },
  {
   "cell_type": "code",
   "execution_count": 15,
   "metadata": {},
   "outputs": [
    {
     "data": {
      "text/plain": [
       "'Hello !\\nHello World!'"
      ]
     },
     "execution_count": 15,
     "metadata": {},
     "output_type": "execute_result"
    }
   ],
   "source": [
    "fh.read()\n"
   ]
  },
  {
   "cell_type": "code",
   "execution_count": 16,
   "metadata": {},
   "outputs": [
    {
     "name": "stdout",
     "output_type": "stream",
     "text": [
      "H\n",
      "e\n",
      "l\n",
      "l\n",
      "o\n",
      " \n",
      "!\n",
      "\n",
      "\n",
      "H\n",
      "e\n",
      "l\n",
      "l\n",
      "o\n",
      " \n",
      "W\n",
      "o\n",
      "r\n",
      "l\n",
      "d\n",
      "!\n"
     ]
    }
   ],
   "source": [
    "fh = open('my_file')\n",
    "for line in fh.read():\n",
    "    print(line)"
   ]
  },
  {
   "cell_type": "code",
   "execution_count": 17,
   "metadata": {},
   "outputs": [
    {
     "name": "stdout",
     "output_type": "stream",
     "text": [
      "Hello !\n",
      "\n",
      "Hello World!\n"
     ]
    }
   ],
   "source": [
    "fh = open('my_file')\n",
    "for line in fh.readlines():\n",
    "    print(line)"
   ]
  },
  {
   "cell_type": "code",
   "execution_count": 18,
   "metadata": {},
   "outputs": [
    {
     "name": "stdout",
     "output_type": "stream",
     "text": [
      "Hello !\n",
      "\n",
      "Hello World!\n"
     ]
    }
   ],
   "source": [
    "fh = open(\"my_file\", \"r\")\n",
    "myline = fh.readline()\n",
    "while myline:\n",
    "    print(myline)\n",
    "    myline = fh.readline()\n",
    "    \n",
    "fh.close()   "
   ]
  },
  {
   "cell_type": "code",
   "execution_count": 19,
   "metadata": {},
   "outputs": [],
   "source": [
    "import os \n",
    "os.remove('my_file')"
   ]
  },
  {
   "cell_type": "code",
   "execution_count": 24,
   "metadata": {},
   "outputs": [
    {
     "ename": "ValueError",
     "evalue": "I/O operation on closed file.",
     "output_type": "error",
     "traceback": [
      "\u001b[0;31m---------------------------------------------------------------------------\u001b[0m",
      "\u001b[0;31mValueError\u001b[0m                                Traceback (most recent call last)",
      "Cell \u001b[0;32mIn[24], line 6\u001b[0m\n\u001b[1;32m      2\u001b[0m     \u001b[38;5;28;01mfor\u001b[39;00m i \u001b[38;5;129;01min\u001b[39;00m \u001b[38;5;28mrange\u001b[39m(\u001b[38;5;241m50\u001b[39m):\n\u001b[1;32m      3\u001b[0m         fh\u001b[38;5;241m.\u001b[39mwrite(\u001b[38;5;124m\"\u001b[39m\u001b[38;5;124mBonjour\u001b[39m\u001b[38;5;130;01m\\n\u001b[39;00m\u001b[38;5;124m\"\u001b[39m)\n\u001b[0;32m----> 6\u001b[0m \u001b[43mfh\u001b[49m\u001b[38;5;241;43m.\u001b[39;49m\u001b[43mread\u001b[49m\u001b[43m(\u001b[49m\u001b[43m)\u001b[49m\n",
      "\u001b[0;31mValueError\u001b[0m: I/O operation on closed file."
     ]
    }
   ],
   "source": [
    "with open('myfile','w') as fh:\n",
    "    for i in range(50):\n",
    "        fh.write(\"Bonjour\\n\")\n",
    "\n",
    "\n",
    "fh.read()"
   ]
  },
  {
   "cell_type": "markdown",
   "metadata": {},
   "source": [
    "# 2. CSV\n",
    "\n",
    "CSV files are very popular because they can be used to interface data to and from worksheet (aka Excel® files).\n",
    "\n",
    "They can be seen as the \"first\" level (as in \"not sophisticated) data structures. \n",
    "\n",
    "Usually the file extension is csv, and they are files with lines of data, each separated by a comma : `,` and can contain a \"header\" line : \n",
    "\n",
    "\n",
    "`Name, Firstname, City, Age`\n",
    "\n",
    "`Berger, Alice, Marseille, 34`\n",
    "\n",
    "`Vernet, Bertrand, Angers, 32`\n",
    "\n",
    "`Jordes, Charles, Lyon, 29`\n",
    "\n",
    "`Duchamps, Eve, Bordeaux, 30`\n",
    "\n",
    "\n"
   ]
  },
  {
   "cell_type": "code",
   "execution_count": 1,
   "metadata": {},
   "outputs": [],
   "source": [
    "# a csv file is a text file (with some user formatting, so it is quite similar management as before)\n",
    "\n",
    "# first let' populate our file, as a text file : \n",
    "\n",
    "fh = open(\"my_file.csv\", \"w\")\n",
    "fh.write('Name, Firstname, City, Age\\n')\n",
    "fh.write('Berger, Alice, Marseille, 34\\n')\n",
    "fh.write('Vernet, Bertrand, Angers, 32\\n')\n",
    "fh.write('Jordes, Charles, Lyon, 29\\n')\n",
    "fh.write('Duchamps, Eve, Bordeaux, 30\\n')\n",
    "fh.close()"
   ]
  },
  {
   "cell_type": "code",
   "execution_count": 2,
   "metadata": {},
   "outputs": [],
   "source": [
    "# to be able to access some data, let'us use the csv library: \n",
    "import csv"
   ]
  },
  {
   "cell_type": "markdown",
   "metadata": {},
   "source": [
    "## Let's try to get the average age of this group of people"
   ]
  },
  {
   "cell_type": "code",
   "execution_count": 3,
   "metadata": {},
   "outputs": [
    {
     "name": "stdout",
     "output_type": "stream",
     "text": [
      "['Name', ' Firstname', ' City', ' Age']\n",
      "['Berger', ' Alice', ' Marseille', ' 34']\n",
      "['Vernet', ' Bertrand', ' Angers', ' 32']\n",
      "['Jordes', ' Charles', ' Lyon', ' 29']\n",
      "['Duchamps', ' Eve', ' Bordeaux', ' 30']\n"
     ]
    }
   ],
   "source": [
    "# csv.reader is a function that reads the file into a lists (one for each line) \n",
    "fh = open(\"my_file.csv\")\n",
    "spamreader = csv.reader(fh, delimiter=',')\n",
    "for row in spamreader:\n",
    "    print(row)"
   ]
  },
  {
   "cell_type": "markdown",
   "metadata": {},
   "source": [
    "So if we want to get the ages : "
   ]
  },
  {
   "cell_type": "code",
   "execution_count": 4,
   "metadata": {},
   "outputs": [
    {
     "name": "stdout",
     "output_type": "stream",
     "text": [
      " Age\n",
      " 34\n",
      " 32\n",
      " 29\n",
      " 30\n"
     ]
    }
   ],
   "source": [
    "# let us get the 4th element of each list \n",
    "fh = open(\"my_file.csv\")\n",
    "spamreader = csv.reader(fh, delimiter=',')\n",
    "for row in spamreader:\n",
    "    print(row[3])"
   ]
  },
  {
   "cell_type": "markdown",
   "metadata": {},
   "source": [
    "We do not need the first line (header):"
   ]
  },
  {
   "cell_type": "code",
   "execution_count": 5,
   "metadata": {},
   "outputs": [
    {
     "name": "stdout",
     "output_type": "stream",
     "text": [
      " 34\n",
      " 32\n",
      " 29\n",
      " 30\n"
     ]
    }
   ],
   "source": [
    "# before we iterate : use next to skip the first line\n",
    "fh = open(\"my_file.csv\")\n",
    "spamreader = csv.reader(fh, delimiter=',')\n",
    "next(spamreader)\n",
    "for row in spamreader:\n",
    "    print(row[3])"
   ]
  },
  {
   "cell_type": "markdown",
   "metadata": {},
   "source": [
    "Now we can compute the average"
   ]
  },
  {
   "cell_type": "code",
   "execution_count": null,
   "metadata": {},
   "outputs": [],
   "source": [
    "# try it\n"
   ]
  },
  {
   "cell_type": "markdown",
   "metadata": {},
   "source": [
    "## Challenge : \n",
    "\n",
    "Let us use opendata.gouv : \n",
    "- https://www.data.gouv.fr/fr/\n",
    "- Données relatives à la santé et à la Covid 19 (https://www.data.gouv.fr/fr/pages/donnees-sante/)\n",
    "- Inventaire des données relatives à la Covid (https://www.data.gouv.fr/fr/pages/donnees-coronavirus/)\n",
    "- Sites de prélèvement pour les tests COVID (https://www.data.gouv.fr/fr/datasets/sites-de-prelevements-pour-les-tests-covid/) \n",
    "\n",
    "Download the file : sites-prelevements-grand-public.csv (1.2Mo) \n",
    "\n",
    "How many sites are around Lille (Lille center = 50° 38' 14\" Nord , 3° 03' 48\" East), we will consider 20 km wide square to say a site is around Lille ? \n",
    "\n",
    "- 1 latitude minute (N-S) is approx 2 km\n",
    "\n",
    "- 1 longitude minute (W-E) is approx 1,2 km\n"
   ]
  },
  {
   "cell_type": "code",
   "execution_count": null,
   "metadata": {},
   "outputs": [],
   "source": [
    "# calculate the min and max longitute and latitude around Lille coordinates, definging a 20 km x 20 km square\n",
    "\n",
    "lille_long = 3 + 3/60 + 48/3600\n",
    "lille_lat  = 50 + 38/60 + 14/3600\n",
    "\n",
    "lille_max_long = 3 + 11 / 60 + 48 / 3600\n",
    "lille_min_long = 2 +  55 / 60 + 48 / 3600\n",
    "\n",
    "lille_max_lat = 50 + 48 / 60 + 14 / 3600\n",
    "lille_min_lat = 50 + 28 / 60 + 14 / 3600\n",
    "\n",
    "\n",
    "print(lille_min_long)\n",
    "print(lille_long)\n",
    "print(lille_max_long)\n",
    "\n",
    "print(lille_min_lat)\n",
    "print(lille_lat)\n",
    "print(lille_max_lat)"
   ]
  },
  {
   "cell_type": "code",
   "execution_count": null,
   "metadata": {},
   "outputs": [],
   "source": [
    "# make a first run browsing the .csv file to get the latitudes and longitudes (almost same code as above) \n",
    "fh = open(\"sites-prelevements-grand-public.csv\")\n",
    "spamreader = csv.reader(fh, delimiter=',')\n",
    "next(spamreader)\n",
    "count = 0 \n",
    "for row in spamreader:\n",
    "    try: \n",
    "        lat = float(row[9])\n",
    "    except: \n",
    "        next(spamreader)\n",
    "        \n",
    "    try:\n",
    "        lon = float(row[8])\n",
    "    except: \n",
    "        next(spamreader)\n",
    "        \n",
    "    if lat < lille_max_lat and lat  > float(lille_min_lat) and lon > lille_min_long and lon < lille_max_long:\n",
    "        print(row[4],'long=',row[8],'lat =', row[9])\n",
    "        count = count + 1 \n",
    "\n",
    "print('there are ', count ,'locations available')"
   ]
  },
  {
   "cell_type": "code",
   "execution_count": null,
   "metadata": {},
   "outputs": [],
   "source": [
    "# select and count only the ones with the desired coordinates, print their address and coordinates.\n",
    "# csv reader provides strings, we need to convert to float\n",
    "# there are defects in the file... !"
   ]
  },
  {
   "cell_type": "code",
   "execution_count": null,
   "metadata": {},
   "outputs": [],
   "source": []
  },
  {
   "cell_type": "code",
   "execution_count": null,
   "metadata": {},
   "outputs": [],
   "source": []
  }
 ],
 "metadata": {
  "kernelspec": {
   "display_name": "all",
   "language": "python",
   "name": "python3"
  },
  "language_info": {
   "codemirror_mode": {
    "name": "ipython",
    "version": 3
   },
   "file_extension": ".py",
   "mimetype": "text/x-python",
   "name": "python",
   "nbconvert_exporter": "python",
   "pygments_lexer": "ipython3",
   "version": "3.11.4"
  }
 },
 "nbformat": 4,
 "nbformat_minor": 4
}
