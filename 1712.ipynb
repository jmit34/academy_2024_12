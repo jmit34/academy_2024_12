{
 "cells": [
  {
   "cell_type": "code",
   "execution_count": null,
   "metadata": {},
   "outputs": [],
   "source": [
    "import requests\n",
    "import json"
   ]
  },
  {
   "cell_type": "code",
   "execution_count": 24,
   "metadata": {},
   "outputs": [
    {
     "name": "stdout",
     "output_type": "stream",
     "text": [
      "République                     dispo: 111.0\n",
      "Plaza                          dispo: 65.0\n",
      "Tanneurs                       dispo: 308.0\n",
      "Grand Palais                   dispo: 1023.0\n",
      "EuraLille Centre Commercial    dispo: 996.0\n",
      "Euralille Gare A               dispo: 109.0\n",
      "Opéra                          dispo: 110.0\n",
      "Vieux Lille                    dispo: 63.0\n",
      " \n",
      "Total max = 6467.0, total libre 2785.0\n"
     ]
    }
   ],
   "source": [
    "\n",
    "# endpoint \n",
    "api_url = \"https://data.lillemetropole.fr/data/ogcapi/collections/parking/items?f=json&limits=30\"\n",
    "\n",
    "\n",
    "response = requests.get(api_url)\n",
    "\n",
    "if response.status_code == 200:\n",
    "    data = response.json()\n",
    "\n",
    "    #print(json.dumps(data,indent=4))\n",
    "\n",
    "    parkings = data[\"records\"] # liste de dictionnaires \n",
    "\n",
    "    #print(parkings)\n",
    "\n",
    "    total_dispo = 0\n",
    "    total_max = 0 \n",
    "\n",
    "    for p in parkings: \n",
    "       if p[\"etat\"] == \"OUVERT\": \n",
    "           print(f\"{p['nom']:30} dispo: {p['nbr_libre']}\")\n",
    "           total_dispo += p[\"nbr_libre\"]\n",
    "           total_max += p[\"nbr_total\"] \n",
    "\n",
    "    print(\" \")\n",
    "    print(f\"Total max = {total_max}, total libre {total_dispo}\")\n",
    "else: \n",
    "    print(f\"la requete à l'API a produit une erreur {response.status_code} \")\n",
    " \n",
    "\n"
   ]
  },
  {
   "cell_type": "code",
   "execution_count": 31,
   "metadata": {},
   "outputs": [
    {
     "name": "stdout",
     "output_type": "stream",
     "text": [
      "chien dog\n",
      "chat cat\n",
      "cheval horse\n"
     ]
    }
   ],
   "source": [
    "d = {\"chien\" : \"dog\", \"chat\" : \"cat\", \"cheval\" : \"horse\"}\n",
    "d2 = {\"john\" : 23, \"alice\": 24, \"bob\" : 30 }\n",
    "\n",
    "\n",
    "\n",
    "for key in d.keys():\n",
    "    print(key,d[key])\n",
    "\n"
   ]
  },
  {
   "cell_type": "code",
   "execution_count": 36,
   "metadata": {},
   "outputs": [
    {
     "ename": "SyntaxError",
     "evalue": "multiple exception types must be parenthesized (net.py, line 53)",
     "output_type": "error",
     "traceback": [
      "Traceback \u001b[0;36m(most recent call last)\u001b[0m:\n",
      "\u001b[0m  File \u001b[1;32m~/all/lib/python3.11/site-packages/IPython/core/interactiveshell.py:3508\u001b[0m in \u001b[1;35mrun_code\u001b[0m\n    exec(code_obj, self.user_global_ns, self.user_ns)\u001b[0m\n",
      "\u001b[0m  Cell \u001b[1;32mIn[36], line 1\u001b[0m\n    import zoauth\u001b[0m\n",
      "\u001b[0m  File \u001b[1;32m~/all/lib/python3.11/site-packages/zoauth/__init__.py:3\u001b[0m\n    from zoauth import consumer\u001b[0m\n",
      "\u001b[0;36m  File \u001b[0;32m~/all/lib/python3.11/site-packages/zoauth/consumer.py:6\u001b[0;36m\n\u001b[0;31m    from zoauth import net\u001b[0;36m\n",
      "\u001b[0;36m  File \u001b[0;32m~/all/lib/python3.11/site-packages/zoauth/net.py:53\u001b[0;36m\u001b[0m\n\u001b[0;31m    except urllib2.HTTPError, exc:\u001b[0m\n\u001b[0m           ^\u001b[0m\n\u001b[0;31mSyntaxError\u001b[0m\u001b[0;31m:\u001b[0m multiple exception types must be parenthesized\n"
     ]
    }
   ],
   "source": [
    "import zoauth\n",
    "\n"
   ]
  },
  {
   "cell_type": "code",
   "execution_count": null,
   "metadata": {},
   "outputs": [],
   "source": []
  }
 ],
 "metadata": {
  "kernelspec": {
   "display_name": "all",
   "language": "python",
   "name": "python3"
  },
  "language_info": {
   "codemirror_mode": {
    "name": "ipython",
    "version": 3
   },
   "file_extension": ".py",
   "mimetype": "text/x-python",
   "name": "python",
   "nbconvert_exporter": "python",
   "pygments_lexer": "ipython3",
   "version": "3.11.4"
  }
 },
 "nbformat": 4,
 "nbformat_minor": 2
}
