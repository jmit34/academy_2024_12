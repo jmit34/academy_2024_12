{
 "cells": [
  {
   "cell_type": "code",
   "execution_count": null,
   "metadata": {},
   "outputs": [],
   "source": [
    "print(a)"
   ]
  },
  {
   "cell_type": "code",
   "execution_count": null,
   "metadata": {},
   "outputs": [],
   "source": [
    "a = 5 \n",
    "\n",
    "print(\"a vaut\", a)\n",
    "\n",
    "b = 5 \n",
    "\n",
    "print(a==b)"
   ]
  },
  {
   "cell_type": "markdown",
   "metadata": {},
   "source": [
    "# Titre\n",
    "\n",
    "### petit\n",
    "\n",
    "texte\n",
    "- un\n",
    "- deux\n",
    "\n",
    "1. alpha\n",
    "2. Beta\n",
    "\n",
    "| z| g|\n",
    "|---|---|\n",
    "| a | b |\n",
    "\n",
    "<center> coucou </center>\n",
    "\n",
    "\n",
    "$$A = \\sum_{0}^{100} \\sqrt{cos\\theta}$$"
   ]
  },
  {
   "cell_type": "code",
   "execution_count": 3,
   "metadata": {},
   "outputs": [],
   "source": [
    "a = 8"
   ]
  },
  {
   "cell_type": "code",
   "execution_count": 7,
   "metadata": {},
   "outputs": [
    {
     "name": "stdout",
     "output_type": "stream",
     "text": [
      "h\n",
      "e\n",
      "l\n",
      "l\n",
      "o\n"
     ]
    },
    {
     "data": {
      "text/plain": [
       "'e'"
      ]
     },
     "execution_count": 7,
     "metadata": {},
     "output_type": "execute_result"
    }
   ],
   "source": [
    "\n",
    "chaine = 'hello'\n",
    "\n",
    "for lettre in chaine:\n",
    "    print(lettre)\n",
    "\n",
    "#------\n",
    "\n",
    "chaine[1]\n"
   ]
  },
  {
   "cell_type": "code",
   "execution_count": 9,
   "metadata": {},
   "outputs": [],
   "source": [
    "liste = ['egg', 'bacon','spam']"
   ]
  },
  {
   "cell_type": "code",
   "execution_count": 10,
   "metadata": {},
   "outputs": [
    {
     "data": {
      "text/plain": [
       "'bacon'"
      ]
     },
     "execution_count": 10,
     "metadata": {},
     "output_type": "execute_result"
    }
   ],
   "source": [
    "liste[1]"
   ]
  },
  {
   "cell_type": "code",
   "execution_count": 14,
   "metadata": {},
   "outputs": [
    {
     "name": "stdout",
     "output_type": "stream",
     "text": [
      "egg\n",
      "bacon\n",
      "spam\n",
      "egg\n",
      "egg\n",
      "egg\n",
      "ham\n",
      "saussage\n",
      "egg\n",
      "ham\n",
      "saussage\n"
     ]
    }
   ],
   "source": [
    "liste.append('egg')\n",
    "liste = liste + ['ham', 'saussage']\n",
    "liste\n",
    "\n",
    "for element in liste:\n",
    "    print(element)"
   ]
  },
  {
   "cell_type": "code",
   "execution_count": 15,
   "metadata": {},
   "outputs": [
    {
     "data": {
      "text/plain": [
       "['egg',\n",
       " 'bacon',\n",
       " 'spam',\n",
       " 'egg',\n",
       " 'egg',\n",
       " 'egg',\n",
       " 'ham',\n",
       " 'saussage',\n",
       " 'egg',\n",
       " 'ham',\n",
       " 'saussage']"
      ]
     },
     "execution_count": 15,
     "metadata": {},
     "output_type": "execute_result"
    }
   ],
   "source": [
    "liste"
   ]
  },
  {
   "cell_type": "code",
   "execution_count": 20,
   "metadata": {},
   "outputs": [],
   "source": [
    "liste.remove(\"saussage\")"
   ]
  },
  {
   "cell_type": "code",
   "execution_count": 27,
   "metadata": {},
   "outputs": [
    {
     "data": {
      "text/plain": [
       "'ham'"
      ]
     },
     "execution_count": 27,
     "metadata": {},
     "output_type": "execute_result"
    }
   ],
   "source": [
    "liste.pop()"
   ]
  },
  {
   "cell_type": "code",
   "execution_count": 28,
   "metadata": {},
   "outputs": [
    {
     "data": {
      "text/plain": [
       "['egg', 'bacon', 'spam', 'egg', 'egg', 'egg']"
      ]
     },
     "execution_count": 28,
     "metadata": {},
     "output_type": "execute_result"
    }
   ],
   "source": [
    "liste"
   ]
  },
  {
   "cell_type": "code",
   "execution_count": 38,
   "metadata": {},
   "outputs": [
    {
     "name": "stdout",
     "output_type": "stream",
     "text": [
      "disparition\n",
      "disparitio\n",
      "dispariti\n",
      "disparit\n",
      "dispari\n",
      "dispar\n",
      "dispa\n",
      "disp\n",
      "dis\n",
      "di\n",
      "d\n",
      "\n"
     ]
    }
   ],
   "source": [
    "\n",
    "s = \"disparition\"\n",
    "s2 = s[:]\n",
    "print(s2)\n",
    "\n",
    "s = s[0:len(s)-1] #slicing iterable[debut:fin:step]\n",
    "print(s)\n",
    "\n",
    "#c = s.pop()\n",
    "\n",
    "#print(len(s))\n",
    "\n",
    "for i in range(len(s)): \n",
    "    s = s[0:-1]\n",
    "    print(s)\n",
    "\n"
   ]
  },
  {
   "cell_type": "code",
   "execution_count": 40,
   "metadata": {},
   "outputs": [
    {
     "name": "stdout",
     "output_type": "stream",
     "text": [
      "0\n",
      "1\n",
      "0\n",
      "1\n",
      "0\n",
      "1\n",
      "0\n",
      "1\n",
      "0\n",
      "1\n",
      "0\n",
      "1\n",
      "0\n",
      "1\n",
      "0\n"
     ]
    }
   ],
   "source": [
    "\n",
    "for a in range(15):\n",
    "    print(a%2)\n"
   ]
  },
  {
   "cell_type": "code",
   "execution_count": 45,
   "metadata": {},
   "outputs": [
    {
     "name": "stdout",
     "output_type": "stream",
     "text": [
      "4\n",
      "3\n",
      "2\n",
      "1\n"
     ]
    }
   ],
   "source": [
    "a = 4\n",
    "while a:\n",
    "    print(a)\n",
    "    a = a - 1\n",
    "    if a < 0: \n",
    "        break\n"
   ]
  },
  {
   "cell_type": "code",
   "execution_count": 60,
   "metadata": {},
   "outputs": [],
   "source": [
    "\n",
    "#reponse = input(\"entrez votre age\")\n",
    "\n",
    "s = \"1234\"\n",
    "nombre = int(s)\n",
    "\n",
    "#print(reponse+3)\n",
    "\n"
   ]
  },
  {
   "cell_type": "code",
   "execution_count": null,
   "metadata": {},
   "outputs": [
    {
     "name": "stdout",
     "output_type": "stream",
     "text": [
      "80\n"
     ]
    }
   ],
   "source": [
    "try:\n",
    "    a = int(input(\"entrez un nombre A svp:\"))\n",
    "except:\n",
    "    print(\"désolé vous vous êtes trompé\")\n",
    "b = int(input(\"entrez un nombre B svp:\"))\n",
    "r = 0 \n",
    "while ( b != 0 ):\n",
    "    if (b%2 == 0):\n",
    "        a = a * 2\n",
    "        b = b / 2 \n",
    "    else: \n",
    "        r = a + r \n",
    "        b = b - 1 \n",
    "print(r)\n"
   ]
  },
  {
   "cell_type": "code",
   "execution_count": 67,
   "metadata": {},
   "outputs": [
    {
     "name": "stdout",
     "output_type": "stream",
     "text": [
      "The Zen of Python, by Tim Peters\n",
      "\n",
      "Beautiful is better than ugly.\n",
      "Explicit is better than implicit.\n",
      "Simple is better than complex.\n",
      "Complex is better than complicated.\n",
      "Flat is better than nested.\n",
      "Sparse is better than dense.\n",
      "Readability counts.\n",
      "Special cases aren't special enough to break the rules.\n",
      "Although practicality beats purity.\n",
      "Errors should never pass silently.\n",
      "Unless explicitly silenced.\n",
      "In the face of ambiguity, refuse the temptation to guess.\n",
      "There should be one-- and preferably only one --obvious way to do it.\n",
      "Although that way may not be obvious at first unless you're Dutch.\n",
      "Now is better than never.\n",
      "Although never is often better than *right* now.\n",
      "If the implementation is hard to explain, it's a bad idea.\n",
      "If the implementation is easy to explain, it may be a good idea.\n",
      "Namespaces are one honking great idea -- let's do more of those!\n"
     ]
    }
   ],
   "source": [
    "import this"
   ]
  },
  {
   "cell_type": "code",
   "execution_count": null,
   "metadata": {},
   "outputs": [],
   "source": [
    "\n"
   ]
  }
 ],
 "metadata": {
  "kernelspec": {
   "display_name": "all",
   "language": "python",
   "name": "python3"
  },
  "language_info": {
   "codemirror_mode": {
    "name": "ipython",
    "version": 3
   },
   "file_extension": ".py",
   "mimetype": "text/x-python",
   "name": "python",
   "nbconvert_exporter": "python",
   "pygments_lexer": "ipython3",
   "version": "3.11.4"
  }
 },
 "nbformat": 4,
 "nbformat_minor": 2
}
