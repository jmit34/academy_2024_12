{
 "cells": [
  {
   "cell_type": "code",
   "execution_count": 1,
   "id": "87b85d70",
   "metadata": {},
   "outputs": [],
   "source": [
    "# import MNIST from TENSORFLOW lib\n",
    "from tensorflow.keras.datasets import mnist\n",
    "import matplotlib.pyplot as plt\n",
    "from tensorflow.keras.datasets import mnist\n",
    "from tensorflow.keras.utils import to_categorical\n",
    "from keras import *\n",
    "import numpy as np"
   ]
  },
  {
   "cell_type": "code",
   "execution_count": 2,
   "id": "1ccabf41",
   "metadata": {},
   "outputs": [],
   "source": [
    "# loading data\n",
    "(X_train_data,Y_train_data),(X_test_data,Y_test_data) = mnist.load_data()"
   ]
  },
  {
   "cell_type": "code",
   "execution_count": 4,
   "id": "a363d583",
   "metadata": {},
   "outputs": [
    {
     "name": "stdout",
     "output_type": "stream",
     "text": [
      "28\n",
      "[[  0   0   0   0   0   0   0   0   0   0   0   0   0   0   0   0   0   0\n",
      "    0   0   0   0   0   0   0   0   0   0]\n",
      " [  0   0   0   0   0   0   0   0   0   0   0   0   0   0   0   0   0   0\n",
      "    0   0   0   0   0   0   0   0   0   0]\n",
      " [  0   0   0   0   0   0   0   0   0   0   0   0   0   0   0   0   0   0\n",
      "    0   0   0   0   0   0   0   0   0   0]\n",
      " [  0   0   0   0   0   0   0   0   0   0   0   0   0   0   0   0   0   0\n",
      "    0   0   0   0   0   0   0   0   0   0]\n",
      " [  0   0   0   0   0   0   0   0   0   0   0   0   0   0   0   0   0   0\n",
      "    0   0   0   0   0   0   0   0   0   0]\n",
      " [  0   0   0   0   0   0   0   0   0   0   0   0  64  64 255 183 253 140\n",
      "  121 121  38   0   0   0   0   0   0   0]\n",
      " [  0   0   0   0   0   0   0  91 212 240 240 240 246 246 253 252 252 252\n",
      "  252 252  79   0   0   0   0   0   0   0]\n",
      " [  0   0   0   0   0   0 133 248 252 202 252 252 252 252 253 252 252 252\n",
      "  252 252 198   0   0   0   0   0   0   0]\n",
      " [  0   0   0   0   0   0 226 252 252 161 239 172 172 102 110  39  39  39\n",
      "  165 252 246  78   0   0   0   0   0   0]\n",
      " [  0   0   0   0   0   0 226 252 252 104  44   0   0   0   0   0   0   0\n",
      "   14  53  53  20   0   0   0   0   0   0]\n",
      " [  0   0   0   0   0   0 128 252 252  66   0   0   0   0   0   0   0   0\n",
      "    0   0   0   0   0   0   0   0   0   0]\n",
      " [  0   0   0   0   0   0  94 252 252  96  41  41  19  19   0   0   0   0\n",
      "    0   0   0   0   0   0   0   0   0   0]\n",
      " [  0   0   0   0   0   0  35 213 252 252 252 252 203 203 161 104  17   0\n",
      "    0   0   0   0   0   0   0   0   0   0]\n",
      " [  0   0   0   0   0   0   0  81 252 252 252 252 252 252 253 252 213 105\n",
      "   10   0   0   0   0   0   0   0   0   0]\n",
      " [  0   0   0   0   0   0   0  81 252 252 252 252 252 252 253 252 252 252\n",
      "  185   0   0   0   0   0   0   0   0   0]\n",
      " [  0   0   0   0   0   0   0   0  36 158 234 146 183 197 191 253 253 253\n",
      "  253 129   0   0   0   0   0   0   0   0]\n",
      " [  0   0   0   0   0   0   0   0   0   3  11   2   6   7   6 139 241 252\n",
      "  252 249  76   0   0   0   0   0   0   0]\n",
      " [  0   0   0   0   0   0   0   0   0   0   0   0   0   0   0   0  23 217\n",
      "  252 252 128   0   0   0   0   0   0   0]\n",
      " [  0   0   0   0   0   0   0   0   0   0   0   0   0   0   0   0   0 213\n",
      "  252 252 246  78   0   0   0   0   0   0]\n",
      " [  0   0   0   0   0   0   0   0   0   0   0   0   0   0   0   0 110 244\n",
      "  252 252 220  20   0   0   0   0   0   0]\n",
      " [  0   0   0   0   0   0   0   0  15  14   0   0  32  54 187 186 245 252\n",
      "  252 252 212   0   0   0   0   0   0   0]\n",
      " [  0   0   0   0   0   0   0   0 158 193 173 173 219 252 253 252 252 252\n",
      "  252 243 108   0   0   0   0   0   0   0]\n",
      " [  0   0   0   0   0   0   0   0 109 245 252 252 252 252 253 252 252 252\n",
      "  245 108   0   0   0   0   0   0   0   0]\n",
      " [  0   0   0   0   0   0   0   0   0 177 241 252 252 252 253 246 238 238\n",
      "  106   0   0   0   0   0   0   0   0   0]\n",
      " [  0   0   0   0   0   0   0   0   0   0  19 132 252 252 120  69   0   0\n",
      "    0   0   0   0   0   0   0   0   0   0]\n",
      " [  0   0   0   0   0   0   0   0   0   0   0   0   0   0   0   0   0   0\n",
      "    0   0   0   0   0   0   0   0   0   0]\n",
      " [  0   0   0   0   0   0   0   0   0   0   0   0   0   0   0   0   0   0\n",
      "    0   0   0   0   0   0   0   0   0   0]\n",
      " [  0   0   0   0   0   0   0   0   0   0   0   0   0   0   0   0   0   0\n",
      "    0   0   0   0   0   0   0   0   0   0]]\n"
     ]
    }
   ],
   "source": [
    "# peek at the data\n",
    "print(len(X_test_data[12]))\n",
    "print(X_test_data[120])"
   ]
  },
  {
   "cell_type": "code",
   "execution_count": 6,
   "id": "33c0965c",
   "metadata": {},
   "outputs": [
    {
     "data": {
      "text/plain": [
       "<matplotlib.image.AxesImage at 0x30fbc1cd0>"
      ]
     },
     "execution_count": 6,
     "metadata": {},
     "output_type": "execute_result"
    },
    {
     "data": {
      "image/png": "[encoded data removed]",
      "text/plain": [
       "<Figure size 640x480 with 1 Axes>"
      ]
     },
     "metadata": {},
     "output_type": "display_data"
    }
   ],
   "source": [
    "# peek more easy\n",
    "plt.imshow(X_test_data[120], cmap='Greys')"
   ]
  },
  {
   "cell_type": "code",
   "execution_count": 7,
   "id": "6d36926e",
   "metadata": {},
   "outputs": [],
   "source": [
    "# selecting from the dataset : train and test data (only 10k, can go up to 60K)\n",
    "X_train_data = X_train_data[0:10000]\n",
    "Y_train_data = Y_train_data[0:10000]\n",
    "X_test_data = X_test_data[0:1000]\n",
    "Y_test_data = Y_test_data[0:1000]\n",
    "\n",
    "# reshape as needed\n",
    "N = X_train_data.shape[0]\n",
    "X_train = np.reshape(X_train_data,(N,784))\n",
    "X_train = X_train / 255\n",
    "\n",
    "Y_train = to_categorical(Y_train_data, num_classes = 10)"
   ]
  },
  {
   "cell_type": "code",
   "execution_count": 8,
   "id": "c313ecaa",
   "metadata": {},
   "outputs": [],
   "source": [
    "p = 8 \n",
    "modele = Sequential()\n",
    "\n",
    "modele.add(layers.Dense(p, input_dim = 784, activation = 'sigmoid'))\n",
    "\n",
    "modele.add(layers.Dense(p, activation = 'sigmoid'))\n",
    "\n",
    "modele.add(layers.Dense(10, activation = 'softmax'))"
   ]
  },
  {
   "cell_type": "code",
   "execution_count": 9,
   "id": "7aba6b7d",
   "metadata": {},
   "outputs": [],
   "source": [
    "modele.compile(loss='categorical_crossentropy', optimizer='sgd', metrics = ['accuracy'])"
   ]
  },
  {
   "cell_type": "code",
   "execution_count": 10,
   "id": "3f749534",
   "metadata": {},
   "outputs": [
    {
     "name": "stdout",
     "output_type": "stream",
     "text": [
      "Model: \"sequential\"\n",
      "_________________________________________________________________\n",
      " Layer (type)                Output Shape              Param #   \n",
      "=================================================================\n",
      " dense (Dense)               (None, 8)                 6280      \n",
      "                                                                 \n",
      " dense_1 (Dense)             (None, 8)                 72        \n",
      "                                                                 \n",
      " dense_2 (Dense)             (None, 10)                90        \n",
      "                                                                 \n",
      "=================================================================\n",
      "Total params: 6442 (25.16 KB)\n",
      "Trainable params: 6442 (25.16 KB)\n",
      "Non-trainable params: 0 (0.00 Byte)\n",
      "_________________________________________________________________\n",
      "None\n"
     ]
    }
   ],
   "source": [
    "print(modele.summary())"
   ]
  },
  {
   "cell_type": "code",
   "execution_count": 11,
   "id": "3776aa11",
   "metadata": {},
   "outputs": [
    {
     "name": "stdout",
     "output_type": "stream",
     "text": [
      "Epoch 1/40\n",
      "625/625 [==============================] - 0s 408us/step - loss: 2.3123 - accuracy: 0.1091\n",
      "Epoch 2/40\n",
      "625/625 [==============================] - 0s 380us/step - loss: 2.2756 - accuracy: 0.1209\n",
      "Epoch 3/40\n",
      "625/625 [==============================] - 0s 401us/step - loss: 2.2524 - accuracy: 0.1886\n",
      "Epoch 4/40\n",
      "625/625 [==============================] - 0s 378us/step - loss: 2.2235 - accuracy: 0.2700\n",
      "Epoch 5/40\n",
      "625/625 [==============================] - 0s 375us/step - loss: 2.1856 - accuracy: 0.3211\n",
      "Epoch 6/40\n",
      "625/625 [==============================] - 0s 385us/step - loss: 2.1379 - accuracy: 0.3510\n",
      "Epoch 7/40\n",
      "625/625 [==============================] - 0s 380us/step - loss: 2.0817 - accuracy: 0.3705\n",
      "Epoch 8/40\n",
      "625/625 [==============================] - 0s 426us/step - loss: 2.0204 - accuracy: 0.3849\n",
      "Epoch 9/40\n",
      "625/625 [==============================] - 0s 385us/step - loss: 1.9585 - accuracy: 0.3966\n",
      "Epoch 10/40\n",
      "625/625 [==============================] - 0s 382us/step - loss: 1.8981 - accuracy: 0.4171\n",
      "Epoch 11/40\n",
      "625/625 [==============================] - 0s 383us/step - loss: 1.8389 - accuracy: 0.4481\n",
      "Epoch 12/40\n",
      "625/625 [==============================] - 0s 381us/step - loss: 1.7790 - accuracy: 0.4651\n",
      "Epoch 13/40\n",
      "625/625 [==============================] - 0s 381us/step - loss: 1.7169 - accuracy: 0.4853\n",
      "Epoch 14/40\n",
      "625/625 [==============================] - 0s 381us/step - loss: 1.6536 - accuracy: 0.5055\n",
      "Epoch 15/40\n",
      "625/625 [==============================] - 0s 378us/step - loss: 1.5915 - accuracy: 0.5240\n",
      "Epoch 16/40\n",
      "625/625 [==============================] - 0s 381us/step - loss: 1.5323 - accuracy: 0.5413\n",
      "Epoch 17/40\n",
      "625/625 [==============================] - 0s 377us/step - loss: 1.4771 - accuracy: 0.5595\n",
      "Epoch 18/40\n",
      "625/625 [==============================] - 0s 437us/step - loss: 1.4261 - accuracy: 0.5807\n",
      "Epoch 19/40\n",
      "625/625 [==============================] - 0s 395us/step - loss: 1.3788 - accuracy: 0.5930\n",
      "Epoch 20/40\n",
      "625/625 [==============================] - 0s 382us/step - loss: 1.3342 - accuracy: 0.6117\n",
      "Epoch 21/40\n",
      "625/625 [==============================] - 0s 388us/step - loss: 1.2921 - accuracy: 0.6233\n",
      "Epoch 22/40\n",
      "625/625 [==============================] - 0s 410us/step - loss: 1.2521 - accuracy: 0.6397\n",
      "Epoch 23/40\n",
      "625/625 [==============================] - 0s 418us/step - loss: 1.2138 - accuracy: 0.6513\n",
      "Epoch 24/40\n",
      "625/625 [==============================] - 0s 407us/step - loss: 1.1773 - accuracy: 0.6618\n",
      "Epoch 25/40\n",
      "625/625 [==============================] - 0s 398us/step - loss: 1.1423 - accuracy: 0.6788\n",
      "Epoch 26/40\n",
      "625/625 [==============================] - 0s 452us/step - loss: 1.1093 - accuracy: 0.6851\n",
      "Epoch 27/40\n",
      "625/625 [==============================] - 0s 401us/step - loss: 1.0776 - accuracy: 0.7012\n",
      "Epoch 28/40\n",
      "625/625 [==============================] - 0s 402us/step - loss: 1.0479 - accuracy: 0.7112\n",
      "Epoch 29/40\n",
      "625/625 [==============================] - 0s 399us/step - loss: 1.0193 - accuracy: 0.7200\n",
      "Epoch 30/40\n",
      "625/625 [==============================] - 0s 394us/step - loss: 0.9922 - accuracy: 0.7280\n",
      "Epoch 31/40\n",
      "625/625 [==============================] - 0s 384us/step - loss: 0.9665 - accuracy: 0.7414\n",
      "Epoch 32/40\n",
      "625/625 [==============================] - 0s 386us/step - loss: 0.9422 - accuracy: 0.7515\n",
      "Epoch 33/40\n",
      "625/625 [==============================] - 0s 409us/step - loss: 0.9184 - accuracy: 0.7643\n",
      "Epoch 34/40\n",
      "625/625 [==============================] - 0s 402us/step - loss: 0.8958 - accuracy: 0.7723\n",
      "Epoch 35/40\n",
      "625/625 [==============================] - 0s 444us/step - loss: 0.8734 - accuracy: 0.7850\n",
      "Epoch 36/40\n",
      "625/625 [==============================] - 0s 396us/step - loss: 0.8519 - accuracy: 0.7915\n",
      "Epoch 37/40\n",
      "625/625 [==============================] - 0s 406us/step - loss: 0.8309 - accuracy: 0.7981\n",
      "Epoch 38/40\n",
      "625/625 [==============================] - 0s 390us/step - loss: 0.8101 - accuracy: 0.8061\n",
      "Epoch 39/40\n",
      "625/625 [==============================] - 0s 383us/step - loss: 0.7901 - accuracy: 0.8166\n",
      "Epoch 40/40\n",
      "625/625 [==============================] - 0s 387us/step - loss: 0.7703 - accuracy: 0.8211\n"
     ]
    },
    {
     "data": {
      "text/plain": [
       "<keras.src.callbacks.History at 0x31718fb50>"
      ]
     },
     "execution_count": 11,
     "metadata": {},
     "output_type": "execute_result"
    }
   ],
   "source": [
    "modele.fit(X_train, Y_train, batch_size = 16, epochs = 40)"
   ]
  },
  {
   "cell_type": "code",
   "execution_count": 12,
   "id": "94a6f901",
   "metadata": {},
   "outputs": [],
   "source": [
    "indice = int(input(\"choose one data (1 to 10000) : \"))"
   ]
  },
  {
   "cell_type": "code",
   "execution_count": 13,
   "id": "48a8e412",
   "metadata": {},
   "outputs": [
    {
     "data": {
      "text/plain": [
       "<matplotlib.image.AxesImage at 0x312952f90>"
      ]
     },
     "execution_count": 13,
     "metadata": {},
     "output_type": "execute_result"
    },
    {
     "data": {
      "image/png": "[encoded data removed]",
      "text/plain": [
       "<Figure size 640x480 with 1 Axes>"
      ]
     },
     "metadata": {},
     "output_type": "display_data"
    }
   ],
   "source": [
    "plt.imshow(X_train_data[indice], cmap='Greys')"
   ]
  },
  {
   "cell_type": "code",
   "execution_count": 14,
   "id": "b9b1c8d4",
   "metadata": {},
   "outputs": [
    {
     "name": "stdout",
     "output_type": "stream",
     "text": [
      "1/1 [==============================] - 0s 40ms/step\n"
     ]
    },
    {
     "data": {
      "text/plain": [
       "array([[2.9278111e-02, 6.7467499e-04, 6.9181260e-05, 2.2886485e-02,\n",
       "        2.2971600e-03, 1.6369192e-02, 3.4366298e-05, 8.4747624e-01,\n",
       "        7.8806337e-03, 7.3033959e-02]], dtype=float32)"
      ]
     },
     "execution_count": 14,
     "metadata": {},
     "output_type": "execute_result"
    }
   ],
   "source": [
    "letter = np.reshape(X_train_data[indice],(1,784))\n",
    "letter = letter / 5\n",
    "\n",
    "modele.predict(letter)"
   ]
  }
 ],
 "metadata": {
  "kernelspec": {
   "display_name": "all",
   "language": "python",
   "name": "python3"
  },
  "language_info": {
   "codemirror_mode": {
    "name": "ipython",
    "version": 3
   },
   "file_extension": ".py",
   "mimetype": "text/x-python",
   "name": "python",
   "nbconvert_exporter": "python",
   "pygments_lexer": "ipython3",
   "version": "3.11.4"
  }
 },
 "nbformat": 4,
 "nbformat_minor": 5
}
